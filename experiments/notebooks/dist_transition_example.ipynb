{
 "cells": [
  {
   "cell_type": "code",
   "execution_count": 1,
   "metadata": {
    "collapsed": false,
    "pycharm": {
     "name": "#%%\n"
    }
   },
   "outputs": [],
   "source": [
    "# ###################################################\n",
    "# Change current directory to the root of the project\n",
    "import os\n",
    "from pathlib import Path\n",
    "current_dir = Path(os.getcwd())\n",
    "os.chdir(current_dir.parents[1])\n",
    "# ###################################################"
   ]
  },
  {
   "cell_type": "code",
   "execution_count": 2,
   "metadata": {
    "collapsed": true
   },
   "outputs": [],
   "source": [
    "import numpy as np\n",
    "import matplotlib.pyplot as plt\n",
    "import seaborn as sns\n",
    "\n",
    "from cir.benchmarks.cir_utils import get_pmf\n",
    "\n",
    "sns.set_theme(style=\"whitegrid\")\n",
    "sns.set_palette(sns.color_palette(\"deep\"))"
   ]
  },
  {
   "cell_type": "code",
   "execution_count": 3,
   "metadata": {
    "collapsed": false,
    "pycharm": {
     "name": "#%%\n"
    }
   },
   "outputs": [],
   "source": [
    "sns.set_theme()\n",
    "output_path = \"./\"\n",
    "\n",
    "def sample_and_plot(\n",
    "        n_experiences = 20,\n",
    "        n_classes = 100,\n",
    "        n_different_samples = 5,\n",
    "        probs=None,\n",
    "        title=\"Title\"\n",
    "):\n",
    "    # Data\n",
    "    data = {\"experiences\": list(range(n_experiences)),\n",
    "            \"probs\": probs\n",
    "            }\n",
    "\n",
    "    for i in range(n_different_samples):\n",
    "        samples = np.random.choice(list(range(0, n_experiences)), n_classes,\n",
    "                                   p=probs, replace=True)\n",
    "        data[f\"samples_{i}\"] = samples\n",
    "\n",
    "    # Plot\n",
    "    fig, ax = plt.subplots(nrows=1, ncols=n_different_samples+1, figsize=(15, 3))\n",
    "    plt.suptitle(title, fontsize=15)\n",
    "\n",
    "    sns.lineplot(data=data, x=\"experiences\", y=\"probs\", ax=ax[0])\n",
    "    ax[0].set(xlabel=\"Experience\", ylabel=\"Probability\")\n",
    "    ax[0].set(xlim=(0, n_experiences))\n",
    "\n",
    "    for i in range(n_different_samples):\n",
    "        sns.histplot(data=data, x=f\"samples_{i}\", bins=n_classes,\n",
    "                     ax=ax[i+1], binwidth=1.0, discrete=True, binrange=(0, n_experiences))\n",
    "        ax[i+1].set(xlabel=\"Experience\", ylabel=\"Number of Classes\")\n",
    "    plt.tight_layout()"
   ]
  },
  {
   "cell_type": "markdown",
   "metadata": {
    "collapsed": false
   },
   "source": [
    "## Geometric"
   ]
  },
  {
   "cell_type": "code",
   "execution_count": 4,
   "metadata": {
    "collapsed": false,
    "pycharm": {
     "name": "#%%\n"
    }
   },
   "outputs": [
    {
     "data": {
      "image/png": "[encoded data removed]",
      "text/plain": [
       "<Figure size 500x300 with 1 Axes>"
      ]
     },
     "metadata": {},
     "output_type": "display_data"
    }
   ],
   "source": [
    "n_experiences = 20\n",
    "n_classes = 100\n",
    "n_different_samples = 5\n",
    "\n",
    "\n",
    "p = 0.4\n",
    "title = rf\"Geometric - $p={p}$\"\n",
    "dist = {\"n_entities\": n_experiences, \"dist_type\": \"geometric\", \"p\": p}\n",
    "probs = get_pmf(**dist)\n",
    "ax, fig = plt.subplots(nrows=1, ncols=1, figsize=(5, 3))\n",
    "sns.barplot(x=list(range(len(probs))), y=probs, palette=\"Blues_d\")\n",
    "\n",
    "plt.savefig(os.path.join(output_path, f\"transition_3.pdf\"))"
   ]
  },
  {
   "cell_type": "code",
   "execution_count": null,
   "metadata": {
    "collapsed": false,
    "pycharm": {
     "name": "#%%\n"
    }
   },
   "outputs": [],
   "source": []
  }
 ],
 "metadata": {
  "kernelspec": {
   "display_name": "dl",
   "language": "python",
   "name": "python3"
  },
  "language_info": {
   "codemirror_mode": {
    "name": "ipython",
    "version": 3
   },
   "file_extension": ".py",
   "mimetype": "text/x-python",
   "name": "python",
   "nbconvert_exporter": "python",
   "pygments_lexer": "ipython3",
   "version": "3.9.16"
  }
 },
 "nbformat": 4,
 "nbformat_minor": 0
}
